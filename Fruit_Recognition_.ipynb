{
  "nbformat": 4,
  "nbformat_minor": 0,
  "metadata": {
    "colab": {
      "name": "Fruit Recognition .ipynb",
      "provenance": [],
      "collapsed_sections": [],
      "mount_file_id": "1kydGnKqMPCKMTyJ3jpcAP3VctWuV4qfy",
      "authorship_tag": "ABX9TyPGy1VljwHZgj94V/ruj+/D",
      "include_colab_link": true
    },
    "kernelspec": {
      "name": "python3",
      "display_name": "Python 3"
    },
    "accelerator": "GPU"
  },
  "cells": [
    {
      "cell_type": "markdown",
      "metadata": {
        "id": "view-in-github",
        "colab_type": "text"
      },
      "source": [
        "<a href=\"https://colab.research.google.com/github/Pxtri2156/Project-machine-learning/blob/master/Fruit_Recognition_.ipynb\" target=\"_parent\"><img src=\"https://colab.research.google.com/assets/colab-badge.svg\" alt=\"Open In Colab\"/></a>"
      ]
    },
    {
      "cell_type": "markdown",
      "metadata": {
        "id": "1jVvpu1ymn5r",
        "colab_type": "text"
      },
      "source": [
        ""
      ]
    },
    {
      "cell_type": "code",
      "metadata": {
        "id": "dcwFRBZCmoda",
        "colab_type": "code",
        "colab": {
          "base_uri": "https://localhost:8080/",
          "height": 34
        },
        "outputId": "d88ba2e1-5406-4528-addd-d6533a7f0145"
      },
      "source": [
        "# Importing modules \n",
        "import numpy as np \n",
        "import pandas as pd \n",
        "import os\n",
        "import matplotlib.pyplot as plt\n",
        "import cv2\n",
        "\n",
        "from keras.utils import to_categorical\n",
        "from keras.layers import Dense,Conv2D,Flatten,MaxPool2D,Dropout\n",
        "from keras.models import Sequential\n",
        "\n",
        "from sklearn.model_selection import train_test_split\n",
        "\n",
        "np.random.seed(1)\n",
        "\n"
      ],
      "execution_count": null,
      "outputs": [
        {
          "output_type": "stream",
          "text": [
            "Using TensorFlow backend.\n"
          ],
          "name": "stderr"
        }
      ]
    },
    {
      "cell_type": "code",
      "metadata": {
        "id": "2Cio9eMpjmLQ",
        "colab_type": "code",
        "colab": {
          "base_uri": "https://localhost:8080/",
          "height": 1000
        },
        "outputId": "a7d76912-5158-44c4-b378-95a34871eb6b"
      },
      "source": [
        "# Processing training data\n",
        "# -> appending images in a list 'train_images'\n",
        "# -> appending labels in a list 'train_labels'\n",
        "\n",
        "train_images = []       \n",
        "train_labels = []\n",
        "shape = (200,200) #Quy định kích thước  \n",
        "train_path = '/content/drive/My Drive/Data/Fruit/Data_of_Fruit/train_zip/train'\n",
        "\n",
        "for filename in os.listdir('/content/drive/My Drive/Data/Fruit/Data_of_Fruit/train_zip/train'):\n",
        "  print(filename)\n",
        "  if filename.split('.')[1] == 'jpg':\n",
        "\n",
        "    img = cv2.imread(os.path.join(train_path,filename))\n",
        "        \n",
        "    # Spliting file names and storing the labels for image in list\n",
        "    train_labels.append(filename.split('_')[0])\n",
        "        \n",
        "    # Resize all images to a specific shape\n",
        "    img = cv2.resize(img,shape)\n",
        "        \n",
        "    train_images.append(img)\n",
        "\n",
        "# Converting labels into One Hot encoded sparse matrix\n",
        "train_labels = pd.get_dummies(train_labels).values\n",
        "\n",
        "# Converting train_images to array\n",
        "train_images = np.array(train_images)\n",
        "\n",
        "# Splitting Training data into train and validation dataset\n",
        "x_train,x_val,y_train,y_val = train_test_split(train_images,train_labels,random_state=1)"
      ],
      "execution_count": null,
      "outputs": [
        {
          "output_type": "stream",
          "text": [
            "banana_27.xml\n",
            "apple_48.xml\n",
            "apple_74.jpg\n",
            "banana_37.jpg\n",
            "banana_60.xml\n",
            "apple_68.jpg\n",
            "apple_10.xml\n",
            "banana_58.jpg\n",
            "apple_23.xml\n",
            "banana_59.jpg\n",
            "apple_23.jpg\n",
            "apple_13.xml\n",
            "apple_73.xml\n",
            "banana_13.xml\n",
            "banana_68.jpg\n",
            "apple_8.jpg\n",
            "banana_14.xml\n",
            "banana_47.xml\n",
            "banana_53.jpg\n",
            "banana_41.xml\n",
            "apple_57.xml\n",
            "banana_32.xml\n",
            "apple_35.jpg\n",
            "apple_17.jpg\n",
            "banana_35.xml\n",
            "apple_61.jpg\n",
            "apple_24.jpg\n",
            "banana_26.jpg\n",
            "apple_1.xml\n",
            "banana_4.xml\n",
            "apple_42.xml\n",
            "banana_12.jpg\n",
            "apple_30.xml\n",
            "apple_2.jpg\n",
            "banana_1.jpg\n",
            "banana_17.xml\n",
            "banana_51.jpg\n",
            "banana_44.jpg\n",
            "apple_14.xml\n",
            "apple_65.xml\n",
            "apple_21.xml\n",
            "banana_59.xml\n",
            "apple_64.xml\n",
            "apple_43.xml\n",
            "banana_72.xml\n",
            "apple_55.jpg\n",
            "banana_20.xml\n",
            "apple_5.xml\n",
            "banana_49.jpg\n",
            "apple_55.xml\n",
            "banana_57.jpg\n",
            "banana_65.jpg\n",
            "banana_38.xml\n",
            "apple_5.jpg\n",
            "apple_46.jpg\n",
            "apple_47.jpg\n",
            "banana_47.jpg\n",
            "banana_63.xml\n",
            "apple_9.jpg\n",
            "banana_63.jpg\n",
            "apple_19.jpg\n",
            "banana_33.jpg\n",
            "apple_42.jpg\n",
            "banana_48.jpg\n",
            "apple_37.xml\n",
            "apple_11.jpg\n",
            "apple_1.jpg\n",
            "banana_56.xml\n",
            "banana_58.xml\n",
            "banana_34.jpg\n",
            "banana_12.xml\n",
            "banana_23.xml\n",
            "banana_21.xml\n",
            "banana_7.jpg\n",
            "apple_36.jpg\n",
            "banana_22.jpg\n",
            "apple_4.xml\n",
            "banana_39.xml\n",
            "apple_72.jpg\n",
            "banana_11.xml\n",
            "apple_48.jpg\n",
            "banana_16.xml\n",
            "apple_26.xml\n",
            "banana_10.jpg\n",
            "banana_71.jpg\n",
            "apple_25.jpg\n",
            "apple_50.xml\n",
            "apple_65.jpg\n",
            "apple_73.jpg\n",
            "apple_27.jpg\n",
            "banana_6.jpg\n",
            "apple_31.jpg\n",
            "banana_61.xml\n",
            "banana_30.xml\n",
            "apple_4.jpg\n",
            "apple_26.jpg\n",
            "apple_16.xml\n",
            "apple_36.xml\n",
            "banana_65.xml\n",
            "banana_54.xml\n",
            "apple_22.jpg\n",
            "apple_51.jpg\n",
            "apple_71.xml\n",
            "banana_68.xml\n",
            "banana_51.xml\n",
            "banana_43.jpg\n",
            "banana_17.jpg\n",
            "apple_52.jpg\n",
            "apple_15.xml\n",
            "apple_16.jpg\n",
            "banana_75.jpg\n",
            "banana_57.xml\n",
            "apple_43.jpg\n",
            "apple_33.xml\n",
            "apple_12.jpg\n",
            "banana_70.xml\n",
            "banana_9.jpg\n",
            "apple_2.xml\n",
            "banana_43.xml\n",
            "apple_3.xml\n",
            "banana_66.xml\n",
            "banana_25.xml\n",
            "banana_52.xml\n",
            "apple_13.jpg\n",
            "apple_6.jpg\n",
            "banana_23.jpg\n",
            "banana_71.xml\n",
            "apple_63.jpg\n",
            "apple_38.jpg\n",
            "banana_39.jpg\n",
            "apple_21.jpg\n",
            "banana_11.jpg\n",
            "banana_28.xml\n",
            "banana_28.jpg\n",
            "apple_28.jpg\n",
            "banana_48.xml\n",
            "apple_46.xml\n",
            "apple_25.xml\n",
            "banana_42.jpg\n",
            "apple_39.xml\n",
            "apple_33.jpg\n",
            "apple_24.xml\n",
            "banana_52.jpg\n",
            "banana_31.xml\n",
            "banana_3.xml\n",
            "banana_76.xml\n",
            "apple_51.xml\n",
            "apple_37.jpg\n",
            "apple_64.jpg\n",
            "banana_40.jpg\n",
            "apple_59.jpg\n",
            "banana_54.jpg\n",
            "banana_24.jpg\n",
            "banana_50.xml\n",
            "apple_60.jpg\n",
            "apple_58.xml\n",
            "banana_36.xml\n",
            "apple_57.jpg\n",
            "apple_29.jpg\n",
            "apple_56.xml\n",
            "banana_55.jpg\n",
            "banana_32.jpg\n",
            "apple_39.jpg\n",
            "apple_19.xml\n",
            "apple_41.jpg\n",
            "apple_53.jpg\n",
            "banana_8.jpg\n",
            "banana_34.xml\n",
            "apple_27.xml\n",
            "banana_56.jpg\n",
            "apple_22.xml\n",
            "banana_5.xml\n",
            "banana_67.xml\n",
            "banana_42.xml\n",
            "apple_44.xml\n",
            "apple_58.jpg\n",
            "apple_3.jpg\n",
            "banana_64.xml\n",
            "banana_69.jpg\n",
            "banana_53.xml\n",
            "banana_36.jpg\n",
            "apple_47.xml\n",
            "apple_62.jpg\n",
            "banana_22.xml\n",
            "apple_52.xml\n",
            "apple_76.jpg\n",
            "apple_30.jpg\n",
            "apple_35.xml\n",
            "banana_60.jpg\n",
            "apple_18.jpg\n",
            "banana_26.xml\n",
            "apple_8.xml\n",
            "apple_67.xml\n",
            "banana_1.xml\n",
            "apple_45.xml\n",
            "apple_41.xml\n",
            "apple_68.xml\n",
            "apple_54.xml\n",
            "banana_44.xml\n",
            "banana_62.xml\n",
            "apple_12.xml\n",
            "apple_76.xml\n",
            "banana_67.jpg\n",
            "banana_62.jpg\n",
            "banana_35.jpg\n",
            "apple_54.jpg\n",
            "banana_46.xml\n",
            "apple_28.xml\n",
            "banana_66.jpg\n",
            "banana_74.xml\n",
            "apple_71.jpg\n",
            "apple_18.xml\n",
            "banana_6.xml\n",
            "apple_29.xml\n",
            "apple_69.jpg\n",
            "banana_40.xml\n",
            "banana_76.jpg\n",
            "apple_63.xml\n",
            "banana_16.jpg\n",
            "banana_72.jpg\n",
            "apple_50.jpg\n",
            "apple_14.jpg\n",
            "apple_20.xml\n",
            "apple_49.jpg\n",
            "apple_70.jpg\n",
            "apple_67.jpg\n",
            "banana_2.jpg\n",
            "apple_75.jpg\n",
            "banana_7.xml\n",
            "apple_38.xml\n",
            "apple_7.jpg\n",
            "banana_25.jpg\n",
            "banana_41.jpg\n",
            "banana_33.xml\n",
            "apple_9.xml\n",
            "banana_38.jpg\n",
            "apple_66.jpg\n",
            "banana_30.jpg\n",
            "banana_74.jpg\n",
            "apple_59.xml\n",
            "apple_62.xml\n",
            "banana_20.jpg\n",
            "apple_20.jpg\n",
            "banana_64.jpg\n",
            "banana_55.xml\n",
            "apple_69.xml\n",
            "apple_40.xml\n",
            "banana_21.jpg\n",
            "apple_6.xml\n",
            "apple_15.jpg\n",
            "apple_74.xml\n",
            "apple_72.xml\n",
            "banana_45.jpg\n",
            "banana_5.jpg\n",
            "banana_61.jpg\n",
            "banana_4.jpg\n",
            "banana_24.xml\n",
            "banana_29.xml\n",
            "apple_32.jpg\n",
            "apple_75.xml\n",
            "banana_50.jpg\n",
            "banana_73.xml\n",
            "banana_2.xml\n",
            "banana_29.jpg\n",
            "banana_37.xml\n",
            "banana_46.jpg\n",
            "apple_44.jpg\n",
            "apple_31.xml\n",
            "apple_66.xml\n",
            "apple_40.jpg\n",
            "banana_8.xml\n",
            "apple_60.xml\n",
            "banana_49.xml\n",
            "apple_32.xml\n",
            "banana_14.jpg\n",
            "orange_41.jpg\n",
            "orange_17.jpg\n",
            "orange_14.xml\n",
            "orange_43.jpg\n",
            "orange_6.xml\n",
            "orange_54.jpg\n",
            "orange_10.jpg\n",
            "orange_51.xml\n",
            "orange_68.jpg\n",
            "orange_31.xml\n",
            "orange_75.xml\n",
            "orange_11.jpg\n",
            "orange_38.xml\n",
            "mixed_10.xml\n",
            "orange_64.xml\n",
            "orange_68.xml\n",
            "mixed_17.xml\n",
            "orange_71.xml\n",
            "orange_26.jpg\n",
            "orange_4.xml\n",
            "orange_33.jpg\n",
            "orange_1.xml\n",
            "orange_11.xml\n",
            "orange_13.xml\n",
            "orange_72.jpg\n",
            "orange_46.jpg\n",
            "mixed_19.xml\n",
            "orange_31.jpg\n",
            "mixed_8.xml\n",
            "orange_41.xml\n",
            "orange_40.jpg\n",
            "orange_2.jpg\n",
            "orange_60.jpg\n",
            "orange_27.jpg\n",
            "mixed_12.jpg\n",
            "orange_14.jpg\n",
            "orange_22.jpg\n",
            "orange_34.jpg\n",
            "orange_58.jpg\n",
            "orange_36.xml\n",
            "orange_72.xml\n",
            "mixed_9.xml\n",
            "orange_48.xml\n",
            "orange_76.xml\n",
            "mixed_4.jpg\n",
            "mixed_5.xml\n",
            "orange_44.xml\n",
            "orange_49.xml\n",
            "orange_74.xml\n",
            "mixed_9.jpg\n",
            "orange_23.jpg\n",
            "orange_22.xml\n",
            "orange_52.jpg\n",
            "orange_35.jpg\n",
            "orange_44.jpg\n",
            "orange_24.jpg\n",
            "mixed_2.jpg\n",
            "mixed_20.xml\n",
            "orange_21.jpg\n",
            "orange_18.xml\n",
            "orange_76.jpg\n",
            "orange_56.jpg\n",
            "orange_9.xml\n",
            "orange_54.xml\n",
            "orange_63.xml\n",
            "mixed_20.jpg\n",
            "mixed_3.jpg\n",
            "orange_74.jpg\n",
            "mixed_8.jpg\n",
            "orange_59.xml\n",
            "orange_9.jpg\n",
            "orange_25.xml\n",
            "orange_2.xml\n",
            "orange_21.xml\n",
            "mixed_19.jpg\n",
            "orange_35.xml\n",
            "orange_23.xml\n",
            "mixed_5.jpg\n",
            "orange_16.xml\n",
            "orange_55.jpg\n",
            "orange_69.xml\n",
            "orange_64.jpg\n",
            "mixed_2.xml\n",
            "orange_32.jpg\n",
            "orange_29.xml\n",
            "orange_7.jpg\n",
            "mixed_15.jpg\n",
            "mixed_1.xml\n",
            "orange_18.jpg\n",
            "orange_47.xml\n",
            "orange_32.xml\n",
            "orange_28.xml\n",
            "orange_63.jpg\n",
            "orange_46.xml\n",
            "mixed_14.xml\n",
            "orange_38.jpg\n",
            "orange_56.xml\n",
            "orange_57.xml\n",
            "orange_4.jpg\n",
            "orange_30.jpg\n",
            "orange_24.xml\n",
            "orange_17.xml\n",
            "orange_37.xml\n",
            "orange_12.jpg\n",
            "orange_7.xml\n",
            "orange_50.xml\n",
            "mixed_18.jpg\n",
            "mixed_10.jpg\n",
            "orange_73.jpg\n",
            "mixed_6.xml\n",
            "orange_15.xml\n",
            "orange_50.jpg\n",
            "banana_9.xml\n",
            "mixed_16.xml\n",
            "orange_71.jpg\n",
            "orange_1.jpg\n",
            "orange_75.jpg\n",
            "orange_3.jpg\n",
            "orange_51.jpg\n",
            "orange_5.jpg\n",
            "orange_47.jpg\n",
            "orange_62.jpg\n",
            "orange_61.jpg\n",
            "orange_26.xml\n",
            "orange_5.xml\n",
            "orange_53.jpg\n",
            "orange_73.xml\n",
            "orange_70.jpg\n",
            "orange_61.xml\n",
            "mixed_3.xml\n",
            "orange_16.jpg\n",
            "orange_12.xml\n",
            "orange_34.xml\n",
            "orange_25.jpg\n",
            "orange_19.xml\n",
            "orange_29.jpg\n",
            "mixed_4.xml\n",
            "orange_69.jpg\n",
            "mixed_7.jpg\n",
            "orange_28.jpg\n",
            "orange_20.jpg\n",
            "orange_58.xml\n",
            "orange_57.jpg\n",
            "orange_53.xml\n",
            "mixed_11.xml\n",
            "mixed_12.xml\n",
            "mixed_16.jpg\n",
            "mixed_15.xml\n",
            "mixed_7.xml\n",
            "orange_8.jpg\n",
            "orange_27.xml\n",
            "orange_30.xml\n",
            "orange_60.xml\n",
            "orange_37.jpg\n",
            "orange_55.xml\n",
            "orange_3.xml\n",
            "mixed_14.jpg\n",
            "orange_8.xml\n",
            "mixed_13.jpg\n",
            "orange_42.jpg\n",
            "orange_62.xml\n",
            "orange_42.xml\n",
            "orange_48.jpg\n",
            "orange_43.xml\n",
            "orange_49.jpg\n",
            "orange_33.xml\n",
            "orange_19.jpg\n",
            "mixed_18.xml\n",
            "orange_15.jpg\n",
            "orange_67.xml\n",
            "orange_52.xml\n",
            "orange_59.jpg\n",
            "orange_10.xml\n",
            "orange_40.xml\n",
            "orange_67.jpg\n",
            "orange_20.xml\n",
            "mixed_6.jpg\n",
            "mixed_13.xml\n",
            "orange_6.jpg\n",
            "orange_36.jpg\n",
            "orange_13.jpg\n",
            "mixed_11.jpg\n",
            "mixed_17.jpg\n",
            "orange_70.xml\n",
            "mixed_1.jpg\n",
            "apple_10.jpg\n",
            "apple_17.xml\n",
            "banana_69.xml\n",
            "banana_73.jpg\n",
            "banana_31.jpg\n",
            "banana_27.jpg\n",
            "banana_45.xml\n",
            "apple_49.xml\n",
            "banana_10.xml\n",
            "apple_53.xml\n",
            "apple_11.xml\n",
            "apple_45.jpg\n",
            "banana_75.xml\n",
            "apple_61.xml\n",
            "apple_7.xml\n",
            "apple_56.jpg\n",
            "banana_70.jpg\n",
            "apple_70.xml\n",
            "banana_13.jpg\n",
            "banana_3.jpg\n"
          ],
          "name": "stdout"
        }
      ]
    },
    {
      "cell_type": "code",
      "metadata": {
        "id": "3Y-DabRcZ6Pj",
        "colab_type": "code",
        "colab": {}
      },
      "source": [
        ""
      ],
      "execution_count": null,
      "outputs": []
    },
    {
      "cell_type": "code",
      "metadata": {
        "id": "wLkQDcYcYOu_",
        "colab_type": "code",
        "colab": {
          "base_uri": "https://localhost:8080/",
          "height": 84
        },
        "outputId": "ebd831ee-1b4b-44e1-9b36-8f2b8e9e67f5"
      },
      "source": [
        "print(y_train.shape)\n",
        "print(y_val.shape)\n",
        "print(x_train.shape)\n",
        "print(x_val.shape)"
      ],
      "execution_count": null,
      "outputs": [
        {
          "output_type": "stream",
          "text": [
            "(180, 4)\n",
            "(60, 4)\n",
            "(180, 200, 200, 3)\n",
            "(60, 200, 200, 3)\n"
          ],
          "name": "stdout"
        }
      ]
    },
    {
      "cell_type": "code",
      "metadata": {
        "id": "vAS3MpV_ZPjD",
        "colab_type": "code",
        "colab": {
          "base_uri": "https://localhost:8080/",
          "height": 50
        },
        "outputId": "bff3a4d6-9f28-4f44-d369-61b11572d200"
      },
      "source": [
        "print(y_train[0])\n",
        "print(x_train[0][0][0])"
      ],
      "execution_count": null,
      "outputs": [
        {
          "output_type": "stream",
          "text": [
            "[1 0 0 0]\n",
            "[255 255 255]\n"
          ],
          "name": "stdout"
        }
      ]
    },
    {
      "cell_type": "code",
      "metadata": {
        "id": "2jRmtveznLY4",
        "colab_type": "code",
        "colab": {
          "base_uri": "https://localhost:8080/",
          "height": 1000
        },
        "outputId": "28d0b406-5451-4db0-bd54-fe9d21a86491"
      },
      "source": [
        "# Processing testing data\n",
        "# -> appending images in a list 'test_images'\n",
        "# -> appending labels in a list 'test_labels'\n",
        "# The test data contains labels as well also we are appending it to a list but we are'nt going to use it while training.\n",
        "\n",
        "test_images = []\n",
        "test_labels = []\n",
        "shape = (200,200)\n",
        "test_path = '/content/drive/My Drive/Data/Fruit/Data_of_Fruit/test_zip/test'\n",
        "\n",
        "for filename in os.listdir(test_path):\n",
        "  print(filename)\n",
        "  if filename.split('.')[1] == 'jpg':\n",
        "    img = cv2.imread(os.path.join(test_path,filename))\n",
        "    #print(img)    \n",
        "    # Spliting file names and storing the labels for image in list\n",
        "    test_labels.append(filename.split('_')[0])\n",
        "        \n",
        "    # Resize all images to a specific shape\n",
        "    img = cv2.resize(img,shape)\n",
        "    #print(img) \n",
        "    test_images.append(img)\n",
        "#print(test_images[0])\n",
        "        \n",
        "# Converting test_images to array\n",
        "test_images = np.array(test_images)\n",
        "\n"
      ],
      "execution_count": null,
      "outputs": [
        {
          "output_type": "stream",
          "text": [
            "apple_77.jpg\n",
            "apple_77.xml\n",
            "apple_95.xml\n",
            "apple_92.jpg\n",
            "apple_78.jpg\n",
            "apple_89.jpg\n",
            "apple_87.xml\n",
            "apple_83.jpg\n",
            "apple_82.jpg\n",
            "apple_86.xml\n",
            "banana_79.jpg\n",
            "banana_82.xml\n",
            "apple_87.jpg\n",
            "banana_78.jpg\n",
            "apple_91.jpg\n",
            "apple_95.jpg\n",
            "apple_89.xml\n",
            "banana_83.jpg\n",
            "apple_85.xml\n",
            "apple_92.xml\n",
            "apple_94.xml\n",
            "apple_93.jpg\n",
            "apple_84.jpg\n",
            "apple_80.jpg\n",
            "banana_79.xml\n",
            "apple_79.xml\n",
            "apple_81.xml\n",
            "apple_84.xml\n",
            "banana_80.jpg\n",
            "apple_85.jpg\n",
            "banana_81.xml\n",
            "apple_90.jpg\n",
            "banana_80.xml\n",
            "apple_93.xml\n",
            "apple_82.xml\n",
            "banana_83.xml\n",
            "apple_86.jpg\n",
            "apple_88.xml\n",
            "banana_78.xml\n",
            "banana_81.jpg\n",
            "apple_94.jpg\n",
            "banana_77.xml\n",
            "apple_83.xml\n",
            "apple_91.xml\n",
            "banana_82.jpg\n",
            "apple_88.jpg\n",
            "apple_80.xml\n",
            "apple_81.jpg\n",
            "apple_90.xml\n",
            "banana_84.jpg\n",
            "banana_77.jpg\n",
            "apple_79.jpg\n",
            "apple_78.xml\n",
            "banana_91.jpg\n",
            "banana_92.jpg\n",
            "mixed_21.xml\n",
            "banana_86.jpg\n",
            "banana_84.xml\n",
            "mixed_21.jpg\n",
            "banana_93.xml\n",
            "orange_79.xml\n",
            "orange_77.jpg\n",
            "banana_88.jpg\n",
            "orange_77.xml\n",
            "orange_78.jpg\n",
            "banana_87.jpg\n",
            "banana_85.xml\n",
            "mixed_22.jpg\n",
            "orange_79.jpg\n",
            "banana_94.xml\n",
            "banana_85.jpg\n",
            "banana_86.xml\n",
            "banana_91.xml\n",
            "mixed_24.jpg\n",
            "banana_92.xml\n",
            "mixed_24.xml\n",
            "banana_89.xml\n",
            "mixed_25.jpg\n",
            "banana_93.jpg\n",
            "banana_94.jpg\n",
            "banana_90.xml\n",
            "mixed_23.xml\n",
            "mixed_25.xml\n",
            "banana_90.jpg\n",
            "banana_88.xml\n",
            "banana_87.xml\n",
            "mixed_23.jpg\n",
            "orange_80.jpg\n",
            "orange_78.xml\n",
            "mixed_22.xml\n",
            "banana_89.jpg\n",
            "orange_92.jpg\n",
            "orange_95.xml\n",
            "orange_89.jpg\n",
            "orange_84.xml\n",
            "orange_91.jpg\n",
            "orange_91.xml\n",
            "orange_94.xml\n",
            "orange_90.jpg\n",
            "orange_93.jpg\n",
            "orange_95.jpg\n",
            "orange_94.jpg\n",
            "orange_89.xml\n",
            "orange_90.xml\n",
            "orange_85.xml\n",
            "orange_83.jpg\n",
            "orange_81.xml\n",
            "orange_80.xml\n",
            "orange_87.xml\n",
            "orange_81.jpg\n",
            "orange_93.xml\n",
            "orange_84.jpg\n",
            "orange_92.xml\n",
            "orange_86.jpg\n",
            "orange_86.xml\n",
            "orange_82.jpg\n",
            "orange_85.jpg\n",
            "orange_82.xml\n",
            "orange_83.xml\n",
            "orange_87.jpg\n"
          ],
          "name": "stdout"
        }
      ]
    },
    {
      "cell_type": "code",
      "metadata": {
        "id": "0F2gDhkSnTf8",
        "colab_type": "code",
        "colab": {
          "base_uri": "https://localhost:8080/",
          "height": 302
        },
        "outputId": "e9816448-394d-4da4-b807-efc9200cc21a"
      },
      "source": [
        "# Visualizing Training data\n",
        "print(train_labels[0])\n",
        "plt.imshow(train_images[0])"
      ],
      "execution_count": null,
      "outputs": [
        {
          "output_type": "stream",
          "text": [
            "[1 0 0 0]\n"
          ],
          "name": "stdout"
        },
        {
          "output_type": "execute_result",
          "data": {
            "text/plain": [
              "<matplotlib.image.AxesImage at 0x7f6978c58f98>"
            ]
          },
          "metadata": {
            "tags": []
          },
          "execution_count": 7
        },
        {
          "output_type": "display_data",
          "data": {
            "image/png": "[encoded data removed]",
            "text/plain": [
              "<Figure size 432x288 with 1 Axes>"
            ]
          },
          "metadata": {
            "tags": [],
            "needs_background": "light"
          }
        }
      ]
    },
    {
      "cell_type": "code",
      "metadata": {
        "id": "y5EV-FThnW6m",
        "colab_type": "code",
        "colab": {
          "base_uri": "https://localhost:8080/",
          "height": 302
        },
        "outputId": "d572a0fc-806c-46d8-da64-bb61bdc9043c"
      },
      "source": [
        "# Visualizing Training data\n",
        "print(train_labels[100])\n",
        "plt.imshow(train_images[100])"
      ],
      "execution_count": null,
      "outputs": [
        {
          "output_type": "stream",
          "text": [
            "[0 1 0 0]\n"
          ],
          "name": "stdout"
        },
        {
          "output_type": "execute_result",
          "data": {
            "text/plain": [
              "<matplotlib.image.AxesImage at 0x7f69787366d8>"
            ]
          },
          "metadata": {
            "tags": []
          },
          "execution_count": 8
        },
        {
          "output_type": "display_data",
          "data": {
            "image/png": "[encoded data removed]",
            "text/plain": [
              "<Figure size 432x288 with 1 Axes>"
            ]
          },
          "metadata": {
            "tags": [],
            "needs_background": "light"
          }
        }
      ]
    },
    {
      "cell_type": "code",
      "metadata": {
        "id": "ss6DR4qancdV",
        "colab_type": "code",
        "colab": {}
      },
      "source": [
        "# Creating a Sequential model\n",
        "model= Sequential()\n",
        "model.add(Conv2D(kernel_size=(3,3), filters=32, activation='tanh', input_shape=(200,200,3,)))\n",
        "model.add(Conv2D(filters=\n",
        "                 30,kernel_size = (3,3),activation='tanh'))\n",
        "model.add(MaxPool2D(2,2))\n",
        "model.add(Conv2D(filters=30,kernel_size = (3,3),activation='tanh'))\n",
        "model.add(MaxPool2D(2,2))\n",
        "model.add(Conv2D(filters=30,kernel_size = (3,3),activation='tanh'))\n",
        "\n",
        "model.add(Flatten())\n",
        "\n",
        "model.add(Dense(20,activation='relu'))\n",
        "model.add(Dense(15,activation='relu'))\n",
        "model.add(Dense(4,activation = 'softmax'))\n",
        "    \n",
        "model.compile(\n",
        "              loss='categorical_crossentropy', \n",
        "              metrics=['acc'],\n",
        "              optimizer='adam'\n",
        "             )\n",
        "\n",
        "# Hàm mất mát giống hàm cross entropy"
      ],
      "execution_count": null,
      "outputs": []
    },
    {
      "cell_type": "code",
      "metadata": {
        "id": "Lc6JTkVVne4G",
        "colab_type": "code",
        "colab": {
          "base_uri": "https://localhost:8080/",
          "height": 487
        },
        "outputId": "3c962539-d748-430d-8b1f-364c4124fb10"
      },
      "source": [
        "# Model Summary\n",
        "model.summary()"
      ],
      "execution_count": null,
      "outputs": [
        {
          "output_type": "stream",
          "text": [
            "Model: \"sequential_1\"\n",
            "_________________________________________________________________\n",
            "Layer (type)                 Output Shape              Param #   \n",
            "=================================================================\n",
            "conv2d_1 (Conv2D)            (None, 198, 198, 32)      896       \n",
            "_________________________________________________________________\n",
            "conv2d_2 (Conv2D)            (None, 196, 196, 30)      8670      \n",
            "_________________________________________________________________\n",
            "max_pooling2d_1 (MaxPooling2 (None, 98, 98, 30)        0         \n",
            "_________________________________________________________________\n",
            "conv2d_3 (Conv2D)            (None, 96, 96, 30)        8130      \n",
            "_________________________________________________________________\n",
            "max_pooling2d_2 (MaxPooling2 (None, 48, 48, 30)        0         \n",
            "_________________________________________________________________\n",
            "conv2d_4 (Conv2D)            (None, 46, 46, 30)        8130      \n",
            "_________________________________________________________________\n",
            "flatten_1 (Flatten)          (None, 63480)             0         \n",
            "_________________________________________________________________\n",
            "dense_1 (Dense)              (None, 20)                1269620   \n",
            "_________________________________________________________________\n",
            "dense_2 (Dense)              (None, 15)                315       \n",
            "_________________________________________________________________\n",
            "dense_3 (Dense)              (None, 4)                 64        \n",
            "=================================================================\n",
            "Total params: 1,295,825\n",
            "Trainable params: 1,295,825\n",
            "Non-trainable params: 0\n",
            "_________________________________________________________________\n"
          ],
          "name": "stdout"
        }
      ]
    },
    {
      "cell_type": "code",
      "metadata": {
        "id": "Rf9B0htlnhmO",
        "colab_type": "code",
        "colab": {
          "base_uri": "https://localhost:8080/",
          "height": 1000
        },
        "outputId": "711d02f7-030a-4d81-9432-24baac6490a7"
      },
      "source": [
        "# Training the model\n",
        "history = model.fit(x_train,y_train,epochs=50,batch_size=50,validation_data=(x_val,y_val))"
      ],
      "execution_count": null,
      "outputs": [
        {
          "output_type": "stream",
          "text": [
            "Train on 180 samples, validate on 60 samples\n",
            "Epoch 1/50\n",
            "180/180 [==============================] - 9s 48ms/step - loss: 2.6172 - acc: 0.2889 - val_loss: 5.9600 - val_acc: 0.3667\n",
            "Epoch 2/50\n",
            "180/180 [==============================] - 1s 3ms/step - loss: 2.7499 - acc: 0.4611 - val_loss: 1.5705 - val_acc: 0.4500\n",
            "Epoch 3/50\n",
            "180/180 [==============================] - 0s 3ms/step - loss: 1.3080 - acc: 0.5667 - val_loss: 0.8546 - val_acc: 0.7000\n",
            "Epoch 4/50\n",
            "180/180 [==============================] - 1s 3ms/step - loss: 0.8054 - acc: 0.6889 - val_loss: 0.8156 - val_acc: 0.6167\n",
            "Epoch 5/50\n",
            "180/180 [==============================] - 1s 3ms/step - loss: 0.7499 - acc: 0.7111 - val_loss: 0.6226 - val_acc: 0.7833\n",
            "Epoch 6/50\n",
            "180/180 [==============================] - 1s 3ms/step - loss: 0.6107 - acc: 0.8000 - val_loss: 0.6576 - val_acc: 0.7667\n",
            "Epoch 7/50\n",
            "180/180 [==============================] - 1s 3ms/step - loss: 0.5571 - acc: 0.7778 - val_loss: 0.6371 - val_acc: 0.7833\n",
            "Epoch 8/50\n",
            "180/180 [==============================] - 1s 3ms/step - loss: 0.4589 - acc: 0.8111 - val_loss: 0.5461 - val_acc: 0.8167\n",
            "Epoch 9/50\n",
            "180/180 [==============================] - 0s 3ms/step - loss: 0.3551 - acc: 0.8611 - val_loss: 0.7123 - val_acc: 0.7667\n",
            "Epoch 10/50\n",
            "180/180 [==============================] - 1s 3ms/step - loss: 0.3673 - acc: 0.8667 - val_loss: 0.7721 - val_acc: 0.7333\n",
            "Epoch 11/50\n",
            "180/180 [==============================] - 1s 3ms/step - loss: 0.3691 - acc: 0.8278 - val_loss: 0.9216 - val_acc: 0.7500\n",
            "Epoch 12/50\n",
            "180/180 [==============================] - 1s 3ms/step - loss: 0.2370 - acc: 0.8944 - val_loss: 0.8701 - val_acc: 0.8000\n",
            "Epoch 13/50\n",
            "180/180 [==============================] - 1s 3ms/step - loss: 0.1283 - acc: 0.9556 - val_loss: 0.9634 - val_acc: 0.8167\n",
            "Epoch 14/50\n",
            "180/180 [==============================] - 0s 3ms/step - loss: 0.1368 - acc: 0.9500 - val_loss: 1.0642 - val_acc: 0.8333\n",
            "Epoch 15/50\n",
            "180/180 [==============================] - 1s 3ms/step - loss: 0.1604 - acc: 0.9444 - val_loss: 1.4549 - val_acc: 0.7167\n",
            "Epoch 16/50\n",
            "180/180 [==============================] - 1s 3ms/step - loss: 0.1615 - acc: 0.9444 - val_loss: 0.9707 - val_acc: 0.7833\n",
            "Epoch 17/50\n",
            "180/180 [==============================] - 1s 3ms/step - loss: 0.1094 - acc: 0.9444 - val_loss: 0.8864 - val_acc: 0.8000\n",
            "Epoch 18/50\n",
            "180/180 [==============================] - 1s 3ms/step - loss: 0.0890 - acc: 0.9722 - val_loss: 1.0437 - val_acc: 0.8333\n",
            "Epoch 19/50\n",
            "180/180 [==============================] - 1s 3ms/step - loss: 0.0702 - acc: 0.9722 - val_loss: 1.0477 - val_acc: 0.8167\n",
            "Epoch 20/50\n",
            "180/180 [==============================] - 1s 3ms/step - loss: 0.0615 - acc: 0.9667 - val_loss: 0.9482 - val_acc: 0.8333\n",
            "Epoch 21/50\n",
            "180/180 [==============================] - 1s 3ms/step - loss: 0.0578 - acc: 0.9667 - val_loss: 0.9678 - val_acc: 0.8167\n",
            "Epoch 22/50\n",
            "180/180 [==============================] - 0s 3ms/step - loss: 0.0507 - acc: 0.9722 - val_loss: 1.1263 - val_acc: 0.7833\n",
            "Epoch 23/50\n",
            "180/180 [==============================] - 1s 3ms/step - loss: 0.0621 - acc: 0.9667 - val_loss: 1.2078 - val_acc: 0.8333\n",
            "Epoch 24/50\n",
            "180/180 [==============================] - 1s 3ms/step - loss: 0.0363 - acc: 0.9778 - val_loss: 1.1433 - val_acc: 0.8000\n",
            "Epoch 25/50\n",
            "180/180 [==============================] - 1s 3ms/step - loss: 0.0387 - acc: 0.9778 - val_loss: 1.1339 - val_acc: 0.8000\n",
            "Epoch 26/50\n",
            "180/180 [==============================] - 1s 3ms/step - loss: 0.0367 - acc: 0.9778 - val_loss: 1.0764 - val_acc: 0.8333\n",
            "Epoch 27/50\n",
            "180/180 [==============================] - 1s 3ms/step - loss: 0.0348 - acc: 0.9778 - val_loss: 1.0769 - val_acc: 0.8333\n",
            "Epoch 28/50\n",
            "180/180 [==============================] - 1s 3ms/step - loss: 0.0334 - acc: 0.9778 - val_loss: 1.1012 - val_acc: 0.8333\n",
            "Epoch 29/50\n",
            "180/180 [==============================] - 1s 3ms/step - loss: 0.0317 - acc: 0.9778 - val_loss: 1.1182 - val_acc: 0.8333\n",
            "Epoch 30/50\n",
            "180/180 [==============================] - 1s 3ms/step - loss: 0.0312 - acc: 0.9778 - val_loss: 1.1469 - val_acc: 0.8333\n",
            "Epoch 31/50\n",
            "180/180 [==============================] - 1s 3ms/step - loss: 0.0307 - acc: 0.9778 - val_loss: 1.1617 - val_acc: 0.8333\n",
            "Epoch 32/50\n",
            "180/180 [==============================] - 1s 3ms/step - loss: 0.0302 - acc: 0.9778 - val_loss: 1.1616 - val_acc: 0.8167\n",
            "Epoch 33/50\n",
            "180/180 [==============================] - 1s 3ms/step - loss: 0.0298 - acc: 0.9778 - val_loss: 1.1640 - val_acc: 0.8167\n",
            "Epoch 34/50\n",
            "180/180 [==============================] - 1s 3ms/step - loss: 0.0294 - acc: 0.9778 - val_loss: 1.1674 - val_acc: 0.8167\n",
            "Epoch 35/50\n",
            "180/180 [==============================] - 1s 3ms/step - loss: 0.0290 - acc: 0.9778 - val_loss: 1.1770 - val_acc: 0.8167\n",
            "Epoch 36/50\n",
            "180/180 [==============================] - 1s 3ms/step - loss: 0.0290 - acc: 0.9778 - val_loss: 1.1933 - val_acc: 0.8167\n",
            "Epoch 37/50\n",
            "180/180 [==============================] - 1s 3ms/step - loss: 0.0285 - acc: 0.9778 - val_loss: 1.2027 - val_acc: 0.8167\n",
            "Epoch 38/50\n",
            "180/180 [==============================] - 1s 3ms/step - loss: 0.0284 - acc: 0.9778 - val_loss: 1.2076 - val_acc: 0.8167\n",
            "Epoch 39/50\n",
            "180/180 [==============================] - 1s 3ms/step - loss: 0.0281 - acc: 0.9833 - val_loss: 1.2116 - val_acc: 0.8167\n",
            "Epoch 40/50\n",
            "180/180 [==============================] - 1s 3ms/step - loss: 0.0279 - acc: 0.9833 - val_loss: 1.2247 - val_acc: 0.8167\n",
            "Epoch 41/50\n",
            "180/180 [==============================] - 1s 3ms/step - loss: 0.0277 - acc: 0.9778 - val_loss: 1.2461 - val_acc: 0.8167\n",
            "Epoch 42/50\n",
            "180/180 [==============================] - 1s 3ms/step - loss: 0.0280 - acc: 0.9778 - val_loss: 1.2587 - val_acc: 0.8167\n",
            "Epoch 43/50\n",
            "180/180 [==============================] - 1s 3ms/step - loss: 0.0275 - acc: 0.9833 - val_loss: 1.2422 - val_acc: 0.8167\n",
            "Epoch 44/50\n",
            "180/180 [==============================] - 1s 3ms/step - loss: 0.0271 - acc: 0.9833 - val_loss: 1.2341 - val_acc: 0.8167\n",
            "Epoch 45/50\n",
            "180/180 [==============================] - 1s 3ms/step - loss: 0.0265 - acc: 0.9833 - val_loss: 1.2452 - val_acc: 0.8167\n",
            "Epoch 46/50\n",
            "180/180 [==============================] - 1s 3ms/step - loss: 0.0261 - acc: 0.9833 - val_loss: 1.2323 - val_acc: 0.8000\n",
            "Epoch 47/50\n",
            "180/180 [==============================] - 1s 3ms/step - loss: 0.0256 - acc: 0.9833 - val_loss: 1.2132 - val_acc: 0.8000\n",
            "Epoch 48/50\n",
            "180/180 [==============================] - 1s 3ms/step - loss: 0.0251 - acc: 0.9833 - val_loss: 1.2224 - val_acc: 0.8167\n",
            "Epoch 49/50\n",
            "180/180 [==============================] - 1s 3ms/step - loss: 0.0252 - acc: 0.9833 - val_loss: 1.2572 - val_acc: 0.8167\n",
            "Epoch 50/50\n",
            "180/180 [==============================] - 1s 3ms/step - loss: 0.0258 - acc: 0.9833 - val_loss: 1.2702 - val_acc: 0.8167\n"
          ],
          "name": "stdout"
        }
      ]
    },
    {
      "cell_type": "code",
      "metadata": {
        "id": "pkyInOY4nnPu",
        "colab_type": "code",
        "colab": {
          "base_uri": "https://localhost:8080/",
          "height": 295
        },
        "outputId": "119239a1-fe5e-459b-abac-4cefb2b031f0"
      },
      "source": [
        "# summarize history for accuracy\n",
        "plt.plot(history.history['acc'])\n",
        "plt.plot(history.history['val_acc'])\n",
        "plt.title('model accuracy')\n",
        "plt.ylabel('accuracy')\n",
        "plt.xlabel('epoch')\n",
        "plt.legend(['train', 'test'], loc='upper left')\n",
        "plt.show()"
      ],
      "execution_count": null,
      "outputs": [
        {
          "output_type": "display_data",
          "data": {
            "image/png": "[encoded data removed]",
            "text/plain": [
              "<Figure size 432x288 with 1 Axes>"
            ]
          },
          "metadata": {
            "tags": [],
            "needs_background": "light"
          }
        }
      ]
    },
    {
      "cell_type": "code",
      "metadata": {
        "id": "Z-WXCturno_X",
        "colab_type": "code",
        "colab": {
          "base_uri": "https://localhost:8080/",
          "height": 295
        },
        "outputId": "790d7ab4-bc3e-43ba-b3c2-5124aabe5d36"
      },
      "source": [
        "# summarize history for loss\n",
        "plt.plot(history.history['loss'])\n",
        "plt.plot(history.history['val_loss'])\n",
        "plt.title('model loss')\n",
        "plt.ylabel('loss')\n",
        "plt.xlabel('epoch')\n",
        "plt.legend(['train', 'test'], loc='upper left')\n",
        "plt.show()"
      ],
      "execution_count": null,
      "outputs": [
        {
          "output_type": "display_data",
          "data": {
            "image/png": "[encoded data removed]",
            "text/plain": [
              "<Figure size 432x288 with 1 Axes>"
            ]
          },
          "metadata": {
            "tags": [],
            "needs_background": "light"
          }
        }
      ]
    },
    {
      "cell_type": "code",
      "metadata": {
        "id": "fuLPYbOFnqKQ",
        "colab_type": "code",
        "colab": {
          "base_uri": "https://localhost:8080/",
          "height": 50
        },
        "outputId": "3ac87e69-3a46-4fef-b433-b47844440d1f"
      },
      "source": [
        "# Evaluating model on validation data\n",
        "evaluate = model.evaluate(x_val,y_val)\n",
        "print(evaluate)"
      ],
      "execution_count": null,
      "outputs": [
        {
          "output_type": "stream",
          "text": [
            "60/60 [==============================] - 0s 8ms/step\n",
            "[1.2702135801315309, 0.8166666626930237]\n"
          ],
          "name": "stdout"
        }
      ]
    },
    {
      "cell_type": "code",
      "metadata": {
        "id": "j_tl3_EMns_7",
        "colab_type": "code",
        "colab": {
          "base_uri": "https://localhost:8080/",
          "height": 50
        },
        "outputId": "f62ca6c9-39bc-4f27-a3a2-a1522e904009"
      },
      "source": [
        "# Testing predictions and the actual label\n",
        "checkImage = test_images[2:3]\n",
        "checklabel = test_labels[2:3]\n",
        "\n",
        "predict = model.predict(np.array(checkImage))\n",
        "\n",
        "output = { 0:'apple',1:'banana',2:'mixed',3:'orange'}\n",
        "\n",
        "#print(test_images[0:1])\n",
        "#print(test_labels[0:1])\n",
        "print(\"Actual :- \",checklabel)\n",
        "print(\"Predicted :- \",output[np.argmax(predict)])"
      ],
      "execution_count": null,
      "outputs": [
        {
          "output_type": "stream",
          "text": [
            "Actual :-  ['apple']\n",
            "Predicted :-  apple\n"
          ],
          "name": "stdout"
        }
      ]
    },
    {
      "cell_type": "code",
      "metadata": {
        "id": "4W83XLlUojeZ",
        "colab_type": "code",
        "colab": {
          "base_uri": "https://localhost:8080/",
          "height": 202
        },
        "outputId": "b4cab958-4b38-4372-826b-d1582d9eaaf2"
      },
      "source": [
        "Test_images = []\n",
        "Test_labels = []\n",
        "shape = (200,200)\n",
        "Test_path = '/content/drive/My Drive/Data/Fruit/Test_data'\n",
        "\n",
        "for filename in os.listdir(Test_path):\n",
        "  print(filename)\n",
        "  if filename.split('.')[1] == 'jpg':\n",
        "    img = cv2.imread(os.path.join(Test_path,filename))\n",
        "    #print(img)    \n",
        "    # Spliting file names and storing the labels for image in list\n",
        "    #Test_labels.append(filename.split('_')[0])\n",
        "        \n",
        "    # Resize all images to a specific shape\n",
        "    img = cv2.resize(img,shape)\n",
        "    #print(img) \n",
        "    Test_images.append(img)\n",
        "#print(test_images[0])\n",
        "Test_labels  = [0,0,1,1,1,1,1,1,1,1,1]       \n",
        "# Converting test_images to array\n",
        "Test_images = np.array(Test_images)"
      ],
      "execution_count": null,
      "outputs": [
        {
          "output_type": "stream",
          "text": [
            "apple_01 (1).jpg\n",
            "banana_01.jpg\n",
            "apple_01.jpg\n",
            "banana_02.jpg\n",
            "banana_03.jpg\n",
            "banana_04.jpg\n",
            "banana_05.jpg\n",
            "banana_06.jpg\n",
            "banana_07.jpg\n",
            "banana_08.jpg\n",
            "banana_09.jpg\n"
          ],
          "name": "stdout"
        }
      ]
    },
    {
      "cell_type": "code",
      "metadata": {
        "id": "bAZJPWf9qmmv",
        "colab_type": "code",
        "colab": {
          "base_uri": "https://localhost:8080/",
          "height": 67
        },
        "outputId": "c1268a83-5e5f-42a5-eb78-135244801201"
      },
      "source": [
        "Check_image = Test_images[2:3]\n",
        "Check_label = Test_labels[2:3]\n",
        "\n",
        "predict = model.predict(np.array(Check_image))\n",
        "\n",
        "output = { 0:'apple',1:'banana',2:'mixed',3:'orange'}\n",
        "\n",
        "print(predict)\n",
        "print(\"Actual :- \",Check_label)\n",
        "print(\"Predicted :- \",output[np.argmax(predict)])"
      ],
      "execution_count": null,
      "outputs": [
        {
          "output_type": "stream",
          "text": [
            "[[1.9711511e-02 9.7973287e-01 8.8944532e-09 5.5556954e-04]]\n",
            "Actual :-  [1]\n",
            "Predicted :-  banana\n"
          ],
          "name": "stdout"
        }
      ]
    },
    {
      "cell_type": "code",
      "metadata": {
        "id": "tQKGfc6F5kWi",
        "colab_type": "code",
        "colab": {
          "base_uri": "https://localhost:8080/",
          "height": 34
        },
        "outputId": "4301308c-f4d6-480f-c07c-74d109a94093"
      },
      "source": [
        "from google.colab import drive\n",
        "drive.mount('/content/drive')"
      ],
      "execution_count": null,
      "outputs": [
        {
          "output_type": "stream",
          "text": [
            "Drive already mounted at /content/drive; to attempt to forcibly remount, call drive.mount(\"/content/drive\", force_remount=True).\n"
          ],
          "name": "stdout"
        }
      ]
    },
    {
      "cell_type": "code",
      "metadata": {
        "id": "XVJioYk3rPI4",
        "colab_type": "code",
        "colab": {
          "base_uri": "https://localhost:8080/",
          "height": 34
        },
        "outputId": "55925fdd-e0a4-4f4b-ab54-022b93ccf88f"
      },
      "source": [
        "a = [1,2]\n",
        "print(a)"
      ],
      "execution_count": null,
      "outputs": [
        {
          "output_type": "stream",
          "text": [
            "[1, 2]\n"
          ],
          "name": "stdout"
        }
      ]
    }
  ]
}